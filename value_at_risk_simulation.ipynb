{
 "cells": [
  {
   "cell_type": "code",
   "execution_count": 41,
   "metadata": {
    "collapsed": false
   },
   "outputs": [],
   "source": [
    "import Quandl as qdl\n",
    "import numpy as np\n",
    "import seaborn as sns\n",
    "import matplotlib.pyplot as plt\n",
    "import pandas as pd\n",
    "%matplotlib inline"
   ]
  },
  {
   "cell_type": "code",
   "execution_count": 42,
   "metadata": {
    "collapsed": true
   },
   "outputs": [],
   "source": [
    "stock_one = 'GOOG/NASDAQ_AAPL'\n",
    "stock_two = 'GOOG/NYSE_BRK_A'\n",
    "stock_three = 'GOOG/NYSE_DAC'\n",
    "start_date = '2007-01-01'"
   ]
  },
  {
   "cell_type": "markdown",
   "metadata": {},
   "source": [
    "pull data from quandl"
   ]
  },
  {
   "cell_type": "code",
   "execution_count": 43,
   "metadata": {
    "collapsed": true
   },
   "outputs": [],
   "source": [
    "data_one = qdl.get(stock_one)\n",
    "data_two = qdl.get(stock_two)\n",
    "data_three = qdl.get(stock_three)"
   ]
  },
  {
   "cell_type": "markdown",
   "metadata": {},
   "source": [
    "only keep closing prices after 1/1/2007"
   ]
  },
  {
   "cell_type": "code",
   "execution_count": 44,
   "metadata": {
    "collapsed": false
   },
   "outputs": [],
   "source": [
    "data_one = data_one.loc[start_date:, 'Close']\n",
    "data_two = data_two.loc[start_date:, 'Close']\n",
    "data_three = data_three.loc[start_date:, 'Close']"
   ]
  },
  {
   "cell_type": "markdown",
   "metadata": {},
   "source": [
    "calculate one day percent change and drop NAs"
   ]
  },
  {
   "cell_type": "code",
   "execution_count": 45,
   "metadata": {
    "collapsed": false
   },
   "outputs": [],
   "source": [
    "data_one_chg = data_one.pct_change().dropna()\n",
    "data_two_chg = data_two.pct_change().dropna()\n",
    "data_three_chg = data_three.pct_change().dropna()"
   ]
  },
  {
   "cell_type": "markdown",
   "metadata": {},
   "source": [
    "### Calculating VAR using Simulation"
   ]
  },
  {
   "cell_type": "markdown",
   "metadata": {},
   "source": [
    "run simulations. each loop is a single simulation. for each loop, draw one daily return observation from each of the three assets, then average the three daily returns to get the portfolio return for the day, and save the portfolio return in the \"simulations\" list. this process assumes returns aren't correlated across stocks and that an equal amount is invested in each asset."
   ]
  },
  {
   "cell_type": "code",
   "execution_count": 46,
   "metadata": {
    "collapsed": false
   },
   "outputs": [],
   "source": [
    "simulations = []\n",
    "num_sim = 10000\n",
    "for _ in range(num_sim):\n",
    "    sim_one = np.random.choice(data_one_chg, size = 1)\n",
    "    sim_two = np.random.choice(data_two_chg, size = 1)\n",
    "    sim_three = np.random.choice(data_three_chg, size = 1)\n",
    "    sim_portfolio = np.mean([sim_one, sim_two, sim_three])\n",
    "    simulations.append(sim_portfolio)"
   ]
  },
  {
   "cell_type": "markdown",
   "metadata": {},
   "source": [
    "calculate and print five and ninety-five percentiles"
   ]
  },
  {
   "cell_type": "code",
   "execution_count": 47,
   "metadata": {
    "collapsed": false
   },
   "outputs": [
    {
     "name": "stdout",
     "output_type": "stream",
     "text": [
      "(-0.022531783695969018, 0.024510469741492794)\n"
     ]
    }
   ],
   "source": [
    "five_percentile = np.percentile(simulations, 5)\n",
    "ninety_five_percentile = np.percentile(simulations, 95)\n",
    "print(five_percentile, ninety_five_percentile)"
   ]
  },
  {
   "cell_type": "markdown",
   "metadata": {},
   "source": [
    "calculate and print min and max daily return"
   ]
  },
  {
   "cell_type": "code",
   "execution_count": 48,
   "metadata": {
    "collapsed": false
   },
   "outputs": [
    {
     "name": "stdout",
     "output_type": "stream",
     "text": [
      "(-0.098136244964117256, 0.12221546788199)\n"
     ]
    }
   ],
   "source": [
    "print(np.min(simulations), np.max(simulations))"
   ]
  },
  {
   "cell_type": "markdown",
   "metadata": {},
   "source": [
    "graph histogram of daily portfolio returns along with the five percentile value (horizontal line)"
   ]
  },
  {
   "cell_type": "code",
   "execution_count": 49,
   "metadata": {
    "collapsed": false
   },
   "outputs": [
    {
     "data": {
      "text/plain": [
       "<matplotlib.text.Text at 0x1c0b76d8>"
      ]
     },
     "execution_count": 49,
     "metadata": {},
     "output_type": "execute_result"
    },
    {
     "data": {
      "image/png": "[encoded data removed]",
      "text/plain": [
       "<matplotlib.figure.Figure at 0x1bdeeb38>"
      ]
     },
     "metadata": {},
     "output_type": "display_data"
    }
   ],
   "source": [
    "ax = sns.distplot(simulations)\n",
    "ax.vlines(five_percentile, 0, 30)\n",
    "ax.set_xlabel('Daily Return (%)')\n",
    "ax.set_ylabel('Frequency')\n",
    "ax.set_title('Distribution of Simulated Daily Portfolio Returns')"
   ]
  },
  {
   "cell_type": "markdown",
   "metadata": {},
   "source": [
    "### Calculating VAR using Historical Distribution of Data "
   ]
  },
  {
   "cell_type": "code",
   "execution_count": 50,
   "metadata": {
    "collapsed": false
   },
   "outputs": [],
   "source": [
    "all_data = pd.concat([data_one_chg, data_two_chg, data_three_chg], axis=1)"
   ]
  },
  {
   "cell_type": "code",
   "execution_count": 51,
   "metadata": {
    "collapsed": false
   },
   "outputs": [
    {
     "name": "stdout",
     "output_type": "stream",
     "text": [
      "(-0.026742563093176908, 0.024510469741492794)\n"
     ]
    }
   ],
   "source": [
    "historical_port_return = all_data.mean(axis=1)\n",
    "historical_five_percentile = np.percentile(historical_port_return, 5)\n",
    "historical_ninety_five_percentile = np.percentile(simulations, 95)\n",
    "print(historical_five_percentile, historical_ninety_five_percentile)"
   ]
  },
  {
   "cell_type": "code",
   "execution_count": 52,
   "metadata": {
    "collapsed": false
   },
   "outputs": [
    {
     "name": "stdout",
     "output_type": "stream",
     "text": [
      "(-0.12489814198646691, 0.14489231984725848)\n"
     ]
    }
   ],
   "source": [
    "print(np.min(historical_port_return), np.max(historical_port_return))"
   ]
  },
  {
   "cell_type": "code",
   "execution_count": 53,
   "metadata": {
    "collapsed": false
   },
   "outputs": [
    {
     "data": {
      "text/plain": [
       "<matplotlib.text.Text at 0x1d43d6a0>"
      ]
     },
     "execution_count": 53,
     "metadata": {},
     "output_type": "execute_result"
    },
    {
     "data": {
      "image/png": "[encoded data removed]",
      "text/plain": [
       "<matplotlib.figure.Figure at 0x1d0a66a0>"
      ]
     },
     "metadata": {},
     "output_type": "display_data"
    }
   ],
   "source": [
    "ax = sns.distplot(historical_port_return)\n",
    "ax.vlines(historical_five_percentile, 0, 30)\n",
    "ax.set_xlabel('Daily Return (%)')\n",
    "ax.set_ylabel('Frequency')\n",
    "ax.set_title('Distribution of Historical Daily Portfolio Returns')"
   ]
  }
 ],
 "metadata": {
  "kernelspec": {
   "display_name": "Python 2",
   "language": "python",
   "name": "python2"
  },
  "language_info": {
   "codemirror_mode": {
    "name": "ipython",
    "version": 2
   },
   "file_extension": ".py",
   "mimetype": "text/x-python",
   "name": "python",
   "nbconvert_exporter": "python",
   "pygments_lexer": "ipython2",
   "version": "2.7.11"
  }
 },
 "nbformat": 4,
 "nbformat_minor": 0
}
