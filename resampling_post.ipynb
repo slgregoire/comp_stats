{
 "cells": [
  {
   "cell_type": "code",
   "execution_count": 1,
   "metadata": {
    "collapsed": false
   },
   "outputs": [],
   "source": [
    "from __future__ import division\n",
    "import scipy.stats as sp\n",
    "import numpy as np\n",
    "import statsmodels as sm\n",
    "import seaborn as sns\n",
    "import matplotlib.pyplot as plt\n",
    "%matplotlib inline"
   ]
  },
  {
   "cell_type": "code",
   "execution_count": 2,
   "metadata": {
    "collapsed": true
   },
   "outputs": [],
   "source": [
    "sns.set_style('white')\n",
    "#sns.set_context(\"notebook\")"
   ]
  },
  {
   "cell_type": "markdown",
   "metadata": {},
   "source": [
    "### single coin example"
   ]
  },
  {
   "cell_type": "markdown",
   "metadata": {},
   "source": [
    "#### unknown population distribution"
   ]
  },
  {
   "cell_type": "code",
   "execution_count": 78,
   "metadata": {
    "collapsed": true
   },
   "outputs": [],
   "source": [
    "sample_size = 100\n",
    "null_single = sp.bernoulli(.5)"
   ]
  },
  {
   "cell_type": "code",
   "execution_count": 79,
   "metadata": {
    "collapsed": false
   },
   "outputs": [],
   "source": [
    "sample = null_single.rvs(size=sample_size)"
   ]
  },
  {
   "cell_type": "code",
   "execution_count": 80,
   "metadata": {
    "collapsed": false
   },
   "outputs": [],
   "source": [
    "sample_stat = np.mean(sample)"
   ]
  },
  {
   "cell_type": "markdown",
   "metadata": {},
   "source": [
    "\n",
    "#### calculate sampling distribution of mean"
   ]
  },
  {
   "cell_type": "markdown",
   "metadata": {},
   "source": [
    "###### by Resampling"
   ]
  },
  {
   "cell_type": "code",
   "execution_count": 81,
   "metadata": {
    "collapsed": true
   },
   "outputs": [],
   "source": [
    "num_simulations = 10000"
   ]
  },
  {
   "cell_type": "code",
   "execution_count": 82,
   "metadata": {
    "collapsed": false
   },
   "outputs": [],
   "source": [
    "resample_dist = []\n",
    "for _ in range(num_simulations):\n",
    "    resample = np.random.choice(sample, size=len(sample), replace=True)\n",
    "    resample_mean = np.mean(resample)\n",
    "    resample_dist.append(resample_mean)"
   ]
  },
  {
   "cell_type": "markdown",
   "metadata": {},
   "source": [
    "##### by Central Limit Theorem"
   ]
  },
  {
   "cell_type": "code",
   "execution_count": 83,
   "metadata": {
    "collapsed": true
   },
   "outputs": [],
   "source": [
    "clt_mean = np.mean(sample)\n",
    "clt_var = np.var(sample)/sample_size"
   ]
  },
  {
   "cell_type": "code",
   "execution_count": 84,
   "metadata": {
    "collapsed": false
   },
   "outputs": [],
   "source": [
    "clt_dist = sp.norm(loc=clt_mean, scale=np.sqrt(clt_var))"
   ]
  },
  {
   "cell_type": "markdown",
   "metadata": {},
   "source": [
    "##### Plot of Both Sampling Distributions"
   ]
  },
  {
   "cell_type": "code",
   "execution_count": 85,
   "metadata": {
    "collapsed": false
   },
   "outputs": [
    {
     "data": {
      "image/png": "[encoded data removed]",
      "text/plain": [
       "<matplotlib.figure.Figure at 0x11b69df90>"
      ]
     },
     "metadata": {},
     "output_type": "display_data"
    }
   ],
   "source": [
    "x = np.linspace(0,1,10000)\n",
    "\n",
    "fig, axes = plt.subplots(1, 2)\n",
    "fig.set_figheight(4)\n",
    "fig.set_figwidth(12)\n",
    "\n",
    "sns.distplot(resample_dist, bins=15, kde=False, norm_hist=True, ax=axes[0])\n",
    "axes[0].plot(x, clt_dist.pdf(x))\n",
    "axes[0].set(yticklabels=[], title='Sampling Distribution of Sample Average')\n",
    "axes[0].set_ylabel('Frequency')\n",
    "axes[0].set_xlabel('Sample Average')\n",
    "\n",
    "resample_emp_cdf = sm.tools.tools.ECDF(resample_dist)\n",
    "axes[1].plot(x, resample_emp_cdf(x), label='Sampling Dist.')\n",
    "axes[1].plot(x, clt_dist.cdf(x), label='CLT Sampling Dist.')\n",
    "axes[1].set(yticklabels=[], ylabel='Cumulative Probability',title='CDF of Sampling Distribution of Sample Average')\n",
    "axes[1].set_xlabel('Sample Average')\n",
    "axes[1].legend(loc='best')\n",
    "        \n",
    "sns.despine(top=True, right=True)"
   ]
  },
  {
   "cell_type": "markdown",
   "metadata": {},
   "source": [
    "### two coin example"
   ]
  },
  {
   "cell_type": "markdown",
   "metadata": {},
   "source": [
    "#### unknown population distribution"
   ]
  },
  {
   "cell_type": "code",
   "execution_count": 86,
   "metadata": {
    "collapsed": true
   },
   "outputs": [],
   "source": [
    "sample_size_one = 100\n",
    "sample_size_two = 100\n",
    "coin_one = sp.bernoulli(.5)\n",
    "coin_two = sp.bernoulli(.7)"
   ]
  },
  {
   "cell_type": "code",
   "execution_count": 87,
   "metadata": {
    "collapsed": false
   },
   "outputs": [],
   "source": [
    "sample_one = coin_one.rvs(size=sample_size_one)\n",
    "sample_two = coin_two.rvs(size=sample_size_two)\n",
    "all_data = np.concatenate([sample_one, sample_two])"
   ]
  },
  {
   "cell_type": "code",
   "execution_count": 88,
   "metadata": {
    "collapsed": true
   },
   "outputs": [],
   "source": [
    "two_coin_sample_stat = np.mean(sample_one) - np.mean(sample_two)"
   ]
  },
  {
   "cell_type": "markdown",
   "metadata": {},
   "source": [
    "#### sampling distro and t test"
   ]
  },
  {
   "cell_type": "code",
   "execution_count": 89,
   "metadata": {
    "collapsed": true
   },
   "outputs": [],
   "source": [
    "two_coin_num_simulations = 10000"
   ]
  },
  {
   "cell_type": "code",
   "execution_count": 90,
   "metadata": {
    "collapsed": false
   },
   "outputs": [],
   "source": [
    "two_coin_diff_dist = []\n",
    "for _ in range(two_coin_num_simulations):\n",
    "    resample = np.random.choice(all_data, size=len(all_data), replace=False)\n",
    "    resample_one, resample_two = np.split(resample, [len(sample_one)])\n",
    "    two_coin_diff_dist.append(np.mean(resample_one) - np.mean(resample_two))"
   ]
  },
  {
   "cell_type": "code",
   "execution_count": 91,
   "metadata": {
    "collapsed": false
   },
   "outputs": [
    {
     "data": {
      "image/png": "[encoded data removed]",
      "text/plain": [
       "<matplotlib.figure.Figure at 0x11ad5a9d0>"
      ]
     },
     "metadata": {},
     "output_type": "display_data"
    }
   ],
   "source": [
    "ax = sns.distplot(two_coin_diff_dist, bins=15, kde=False, norm_hist=True)\n",
    "ax.axvline(two_coin_sample_stat, color='red')\n",
    "\n",
    "ax.set(yticklabels=[], title='Sampling Distribution of Mean Coin Diff')\n",
    "sns.despine(top=True, left=True, right=True)"
   ]
  },
  {
   "cell_type": "code",
   "execution_count": 92,
   "metadata": {
    "collapsed": false
   },
   "outputs": [],
   "source": [
    "two_coin_p_value = sum(two_coin_diff_dist < two_coin_sample_stat)/len(two_coin_diff_dist)"
   ]
  },
  {
   "cell_type": "code",
   "execution_count": 93,
   "metadata": {
    "collapsed": false
   },
   "outputs": [
    {
     "data": {
      "text/plain": [
       "0.0001"
      ]
     },
     "execution_count": 93,
     "metadata": {},
     "output_type": "execute_result"
    }
   ],
   "source": [
    "two_coin_p_value"
   ]
  },
  {
   "cell_type": "markdown",
   "metadata": {},
   "source": [
    "calculate confidence interval as well??? yep, since this is going to be under the alternative, not the null, like the significance test above."
   ]
  }
 ],
 "metadata": {
  "kernelspec": {
   "display_name": "Python 2",
   "language": "python",
   "name": "python2"
  },
  "language_info": {
   "codemirror_mode": {
    "name": "ipython",
    "version": 2
   },
   "file_extension": ".py",
   "mimetype": "text/x-python",
   "name": "python",
   "nbconvert_exporter": "python",
   "pygments_lexer": "ipython2",
   "version": "2.7.11"
  }
 },
 "nbformat": 4,
 "nbformat_minor": 0
}
