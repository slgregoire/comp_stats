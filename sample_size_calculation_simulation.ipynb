{
 "cells": [
  {
   "cell_type": "markdown",
   "metadata": {},
   "source": [
    "trying to calculate required sample size by resampling. this is 7a approvals. NOTE this is not a representative sample since pps and strata are used. this matters right? i imagine that for this type of resampling to give reasonable results, the sample one is resampling from must be representative."
   ]
  },
  {
   "cell_type": "code",
   "execution_count": 1,
   "metadata": {
    "collapsed": false
   },
   "outputs": [],
   "source": [
    "import pandas as pd\n",
    "import numpy as np\n",
    "import scipy as sp\n",
    "import seaborn as sns\n",
    "%matplotlib inline"
   ]
  },
  {
   "cell_type": "code",
   "execution_count": 2,
   "metadata": {
    "collapsed": true
   },
   "outputs": [],
   "source": [
    "improper_sample = pd.read_excel('7A_Approval_Improper.xls')\n",
    "population = pd.read_excel('7a_approval_pop.xlsx')"
   ]
  },
  {
   "cell_type": "code",
   "execution_count": 3,
   "metadata": {
    "collapsed": false
   },
   "outputs": [
    {
     "name": "stdout",
     "output_type": "stream",
     "text": [
      "<class 'pandas.core.frame.DataFrame'>\n",
      "RangeIndex: 141 entries, 0 to 140\n",
      "Data columns (total 7 columns):\n",
      "Loan Number                 141 non-null int64\n",
      "Loan Name                   141 non-null object\n",
      "FIRS                        141 non-null object\n",
      "Improper Payment            141 non-null object\n",
      "Improper Payment Amount     141 non-null float64\n",
      "Overpayment/Underpayment    10 non-null object\n",
      "Appropriate Action          10 non-null object\n",
      "dtypes: float64(1), int64(1), object(5)\n",
      "memory usage: 7.8+ KB\n"
     ]
    }
   ],
   "source": [
    "improper_sample.info()"
   ]
  },
  {
   "cell_type": "code",
   "execution_count": 4,
   "metadata": {
    "collapsed": false
   },
   "outputs": [
    {
     "name": "stdout",
     "output_type": "stream",
     "text": [
      "<class 'pandas.core.frame.DataFrame'>\n",
      "Int64Index: 56378 entries, 0 to 5398\n",
      "Data columns (total 5 columns):\n",
      "LoanNmb           56378 non-null int64\n",
      "BorrowerNm        56373 non-null object\n",
      "NetApprovalAmt    56378 non-null float64\n",
      "NetGtyAmt         56378 non-null float64\n",
      "delivery_mtd      56378 non-null object\n",
      "dtypes: float64(2), int64(1), object(2)\n",
      "memory usage: 2.6+ MB\n"
     ]
    }
   ],
   "source": [
    "population.info()"
   ]
  },
  {
   "cell_type": "markdown",
   "metadata": {},
   "source": [
    "calculate the margin of error, or the amount of probability that the middle 90% of sampling distribution must contain. the MOE is 2.5% of average guaranteed amount."
   ]
  },
  {
   "cell_type": "code",
   "execution_count": 5,
   "metadata": {
    "collapsed": false
   },
   "outputs": [],
   "source": [
    "average_gty_size = population['NetGtyAmt'].sum()/len(population.index)\n",
    "margin_of_error = .025 * average_gty_size"
   ]
  },
  {
   "cell_type": "markdown",
   "metadata": {},
   "source": [
    "resample from improper payment sample and take average of sample. do this over and over in order to generate sampling distribution of mean improper payment"
   ]
  },
  {
   "cell_type": "markdown",
   "metadata": {},
   "source": [
    "given a starting sample of X size, how large of resampling samples can be drawn?"
   ]
  },
  {
   "cell_type": "code",
   "execution_count": 23,
   "metadata": {
    "collapsed": false
   },
   "outputs": [],
   "source": [
    "num_simulations = 1000\n",
    "sim_averages = []\n",
    "sample_size = len(improper_sample.index)\n",
    "sample_size = 2500\n",
    "\n",
    "for _ in range(num_simulations):\n",
    "    improper_sim = np.random.choice(improper_sample['Improper Payment Amount'], size=sample_size)\n",
    "    sim_averages.append(np.mean(improper_sim)) "
   ]
  },
  {
   "cell_type": "code",
   "execution_count": 24,
   "metadata": {
    "collapsed": false
   },
   "outputs": [
    {
     "name": "stdout",
     "output_type": "stream",
     "text": [
      "(36587.883349999996, 51755.269500000002)\n"
     ]
    }
   ],
   "source": [
    "five_percentile = np.percentile(sim_averages, 5)\n",
    "ninety_five_percentile = np.percentile(sim_averages, 95)\n",
    "middle_ninety = ninety_five_percentile - five_percentile\n",
    "print(five_percentile, ninety_five_percentile)"
   ]
  },
  {
   "cell_type": "code",
   "execution_count": 25,
   "metadata": {
    "collapsed": false
   },
   "outputs": [
    {
     "name": "stdout",
     "output_type": "stream",
     "text": [
      "(13445.39203056157, 15167.386150000006, False)\n"
     ]
    }
   ],
   "source": [
    "print(2*margin_of_error, middle_ninety, 2*margin_of_error > middle_ninety)"
   ]
  },
  {
   "cell_type": "code",
   "execution_count": 26,
   "metadata": {
    "collapsed": false
   },
   "outputs": [
    {
     "data": {
      "text/plain": [
       "<matplotlib.axes._subplots.AxesSubplot at 0x11c5b8050>"
      ]
     },
     "execution_count": 26,
     "metadata": {},
     "output_type": "execute_result"
    },
    {
     "data": {
      "image/png": "[encoded data removed]",
      "text/plain": [
       "<matplotlib.figure.Figure at 0x118dcc250>"
      ]
     },
     "metadata": {},
     "output_type": "display_data"
    }
   ],
   "source": [
    "sns.distplot(sim_averages, kde=False)"
   ]
  },
  {
   "cell_type": "code",
   "execution_count": null,
   "metadata": {
    "collapsed": true
   },
   "outputs": [],
   "source": []
  }
 ],
 "metadata": {
  "kernelspec": {
   "display_name": "Python 2",
   "language": "python",
   "name": "python2"
  },
  "language_info": {
   "codemirror_mode": {
    "name": "ipython",
    "version": 2
   },
   "file_extension": ".py",
   "mimetype": "text/x-python",
   "name": "python",
   "nbconvert_exporter": "python",
   "pygments_lexer": "ipython2",
   "version": "2.7.11"
  }
 },
 "nbformat": 4,
 "nbformat_minor": 0
}
